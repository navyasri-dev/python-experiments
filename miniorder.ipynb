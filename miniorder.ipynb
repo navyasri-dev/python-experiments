{
 "cells": [
  {
   "cell_type": "code",
   "execution_count": 35,
   "id": "013f35fe-dd88-4194-8a6e-9585773e9f64",
   "metadata": {},
   "outputs": [
    {
     "name": "stdout",
     "output_type": "stream",
     "text": [
      "WELCOME TO PYTHON RESTAURANT\n",
      "pizza: Rs50\n",
      "coffee: Rs40\n",
      "burger: Rs60\n",
      "ice cream: Rs:80\n"
     ]
    },
    {
     "name": "stdin",
     "output_type": "stream",
     "text": [
      "Enter your order of 1st item: coffee\n"
     ]
    },
    {
     "name": "stdout",
     "output_type": "stream",
     "text": [
      "Your item coffee has been added to your order\n"
     ]
    },
    {
     "name": "stdin",
     "output_type": "stream",
     "text": [
      "Do you want order anything else? (Yes/No) Yes\n",
      "Enter your order of 2nd item: burger\n"
     ]
    },
    {
     "name": "stdout",
     "output_type": "stream",
     "text": [
      "Your item burger has been added to your order\n",
      "The total amount of your order is 100\n",
      "Thanks For Visting Our Restaurant\n"
     ]
    }
   ],
   "source": [
    "menu={\n",
    "    'pizza':50,\n",
    "    'coffee':40,\n",
    "    'burger':60,\n",
    "    'ice cream':80,\n",
    "    }\n",
    "print(\"WELCOME TO PYTHON RESTAURANT\")\n",
    "print(\"pizza: Rs50\\ncoffee: Rs40\\nburger: Rs60\\nice cream: Rs:80\")\n",
    "\n",
    "orderTotal=0\n",
    "\n",
    "item1=input(\"Enter your order of 1st item:\")\n",
    "if item1 in menu:\n",
    "    orderTotal+=menu[item1]\n",
    "    print(f\"Your item {item1} has been added to your order\")\n",
    "else:\n",
    "    print(f\"Ordered item {item1} is not availble yet\")\n",
    "\n",
    "\n",
    "anotherOrder=input(\"Do you want order anything else? (Yes/No)\")\n",
    "if anotherOrder==\"Yes\":\n",
    "    item2=input(\"Enter your order of 2nd item:\")\n",
    "    if item2 in menu:\n",
    "        orderTotal+=menu[item2]\n",
    "        print(f\"Your item {item2} has been added to your order\")\n",
    "    else:\n",
    "        print(f\"Ordered item {item2} is not availble yet\")\n",
    "\n",
    "\n",
    "print(f\"The total amount of your order is {orderTotal}\")\n",
    "\n",
    "\n",
    "print(\"Thanks For Visting Our Restaurant\")"
   ]
  },
  {
   "cell_type": "code",
   "execution_count": null,
   "id": "d8674225-3fc1-45f9-91e6-fdfe09ad0cc8",
   "metadata": {},
   "outputs": [],
   "source": []
  }
 ],
 "metadata": {
  "kernelspec": {
   "display_name": "Python [conda env:base] *",
   "language": "python",
   "name": "conda-base-py"
  },
  "language_info": {
   "codemirror_mode": {
    "name": "ipython",
    "version": 3
   },
   "file_extension": ".py",
   "mimetype": "text/x-python",
   "name": "python",
   "nbconvert_exporter": "python",
   "pygments_lexer": "ipython3",
   "version": "3.12.7"
  }
 },
 "nbformat": 4,
 "nbformat_minor": 5
}
